{
 "cells": [
  {
   "cell_type": "code",
   "execution_count": null,
   "id": "92571e53-5ce0-4a22-8ddc-16f2b50f7183",
   "metadata": {},
   "outputs": [],
   "source": [
    "import pandas as pd\n",
    "import slideio"
   ]
  },
  {
   "cell_type": "code",
   "execution_count": null,
   "id": "8144dc54-2528-4560-a14b-6e1421b0fa9d",
   "metadata": {},
   "outputs": [],
   "source": [
    "manifest = pd.read_table('metadata/gdc_manifest_tissue_images.txt')\n",
    "files = \"Data/\" + manifest['id'] + '/' + manifest['filename']\n",
    "files"
   ]
  },
  {
   "cell_type": "code",
   "execution_count": null,
   "id": "760b3c51-8269-4669-90a3-7d60d0a48971",
   "metadata": {},
   "outputs": [],
   "source": [
    "for file in files:\n",
    "    print(file)\n",
    "    slide = slideio.open_slide(file,'SVS')\n",
    "    num_scenes = slide.num_scenes\n",
    "    scene = slide.get_scene(0)\n",
    "    rect = scene.rect\n",
    "    print(rect)\n",
    "    size=1024\n",
    "    image = scene.read_block(size=(int(size*rect[2]/rect[3]) if rect[2]>rect[3] else size, int(size*rect[3]/rect[2]) if rect[3]>rect[2] else size))\n",
    "    image_tr = scipy.ndimage.rotate(image, 180)\n",
    "    block1 = image[0:size, 0:size, 0:3]\n",
    "    block2 = image_tr[0:size, 0:size, 0:3]\n",
    "    matplotlib.image.imsave(file+\"-1.jpg\", block1)\n",
    "    matplotlib.image.imsave(file+\"-2.jpg\", block2)\n",
    "    matplotlib.image.imsave(file+\".jpg\", image)"
   ]
  }
 ],
 "metadata": {
  "kernelspec": {
   "display_name": "Python 3 (ipykernel)",
   "language": "python",
   "name": "python3"
  },
  "language_info": {
   "codemirror_mode": {
    "name": "ipython",
    "version": 3
   },
   "file_extension": ".py",
   "mimetype": "text/x-python",
   "name": "python",
   "nbconvert_exporter": "python",
   "pygments_lexer": "ipython3",
   "version": "3.10.12"
  }
 },
 "nbformat": 4,
 "nbformat_minor": 5
}
